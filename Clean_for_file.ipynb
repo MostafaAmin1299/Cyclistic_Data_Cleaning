{
 "cells": [
  {
   "cell_type": "code",
   "execution_count": 1,
   "id": "485e4b07",
   "metadata": {},
   "outputs": [],
   "source": [
    "import os\n",
    "import pandas as pd"
   ]
  },
  {
   "cell_type": "code",
   "execution_count": 2,
   "id": "48f0e465",
   "metadata": {},
   "outputs": [],
   "source": [
    "df = pd.read_csv('dataset/2019-q1-cleaned-v3.csv')"
   ]
  },
  {
   "cell_type": "code",
   "execution_count": 3,
   "id": "d2fabea3",
   "metadata": {},
   "outputs": [
    {
     "data": {
      "text/html": [
       "<div>\n",
       "<style scoped>\n",
       "    .dataframe tbody tr th:only-of-type {\n",
       "        vertical-align: middle;\n",
       "    }\n",
       "\n",
       "    .dataframe tbody tr th {\n",
       "        vertical-align: top;\n",
       "    }\n",
       "\n",
       "    .dataframe thead th {\n",
       "        text-align: right;\n",
       "    }\n",
       "</style>\n",
       "<table border=\"1\" class=\"dataframe\">\n",
       "  <thead>\n",
       "    <tr style=\"text-align: right;\">\n",
       "      <th></th>\n",
       "      <th>ride_id</th>\n",
       "      <th>start_time</th>\n",
       "      <th>end_time</th>\n",
       "      <th>ride_length</th>\n",
       "      <th>day_of_week</th>\n",
       "      <th>day_of_week_id</th>\n",
       "      <th>start_station_id</th>\n",
       "      <th>end_station_id</th>\n",
       "      <th>usertype</th>\n",
       "    </tr>\n",
       "  </thead>\n",
       "  <tbody>\n",
       "    <tr>\n",
       "      <th>0</th>\n",
       "      <td>21758631</td>\n",
       "      <td>2019-01-04 12:50:24 UTC</td>\n",
       "      <td>2019-01-04 12:51:28 UTC</td>\n",
       "      <td>64</td>\n",
       "      <td>Friday</td>\n",
       "      <td>5</td>\n",
       "      <td>628</td>\n",
       "      <td>628</td>\n",
       "      <td>member</td>\n",
       "    </tr>\n",
       "    <tr>\n",
       "      <th>1</th>\n",
       "      <td>21954243</td>\n",
       "      <td>2019-02-22 12:55:45 UTC</td>\n",
       "      <td>2019-02-22 13:25:49 UTC</td>\n",
       "      <td>1804</td>\n",
       "      <td>Friday</td>\n",
       "      <td>5</td>\n",
       "      <td>628</td>\n",
       "      <td>628</td>\n",
       "      <td>member</td>\n",
       "    </tr>\n",
       "    <tr>\n",
       "      <th>2</th>\n",
       "      <td>22167178</td>\n",
       "      <td>2019-03-29 15:30:19 UTC</td>\n",
       "      <td>2019-03-29 15:47:31 UTC</td>\n",
       "      <td>1032</td>\n",
       "      <td>Friday</td>\n",
       "      <td>5</td>\n",
       "      <td>509</td>\n",
       "      <td>628</td>\n",
       "      <td>member</td>\n",
       "    </tr>\n",
       "    <tr>\n",
       "      <th>3</th>\n",
       "      <td>21926039</td>\n",
       "      <td>2019-02-15 11:53:58 UTC</td>\n",
       "      <td>2019-02-15 12:17:16 UTC</td>\n",
       "      <td>1398</td>\n",
       "      <td>Friday</td>\n",
       "      <td>5</td>\n",
       "      <td>106</td>\n",
       "      <td>628</td>\n",
       "      <td>member</td>\n",
       "    </tr>\n",
       "    <tr>\n",
       "      <th>4</th>\n",
       "      <td>21955109</td>\n",
       "      <td>2019-02-22 15:37:16 UTC</td>\n",
       "      <td>2019-02-22 16:01:19 UTC</td>\n",
       "      <td>1443</td>\n",
       "      <td>Friday</td>\n",
       "      <td>5</td>\n",
       "      <td>106</td>\n",
       "      <td>628</td>\n",
       "      <td>member</td>\n",
       "    </tr>\n",
       "  </tbody>\n",
       "</table>\n",
       "</div>"
      ],
      "text/plain": [
       "    ride_id               start_time                 end_time  ride_length  \\\n",
       "0  21758631  2019-01-04 12:50:24 UTC  2019-01-04 12:51:28 UTC           64   \n",
       "1  21954243  2019-02-22 12:55:45 UTC  2019-02-22 13:25:49 UTC         1804   \n",
       "2  22167178  2019-03-29 15:30:19 UTC  2019-03-29 15:47:31 UTC         1032   \n",
       "3  21926039  2019-02-15 11:53:58 UTC  2019-02-15 12:17:16 UTC         1398   \n",
       "4  21955109  2019-02-22 15:37:16 UTC  2019-02-22 16:01:19 UTC         1443   \n",
       "\n",
       "  day_of_week  day_of_week_id  start_station_id  end_station_id usertype  \n",
       "0      Friday               5               628             628   member  \n",
       "1      Friday               5               628             628   member  \n",
       "2      Friday               5               509             628   member  \n",
       "3      Friday               5               106             628   member  \n",
       "4      Friday               5               106             628   member  "
      ]
     },
     "execution_count": 3,
     "metadata": {},
     "output_type": "execute_result"
    }
   ],
   "source": [
    "df.head()"
   ]
  },
  {
   "cell_type": "code",
   "execution_count": 4,
   "id": "3043973d",
   "metadata": {},
   "outputs": [],
   "source": [
    "rows_b = df.shape[0]"
   ]
  },
  {
   "cell_type": "code",
   "execution_count": 5,
   "id": "04a13f76",
   "metadata": {},
   "outputs": [
    {
     "name": "stdout",
     "output_type": "stream",
     "text": [
      "<class 'pandas.core.frame.DataFrame'>\n",
      "RangeIndex: 365069 entries, 0 to 365068\n",
      "Data columns (total 9 columns):\n",
      " #   Column            Non-Null Count   Dtype \n",
      "---  ------            --------------   ----- \n",
      " 0   ride_id           365069 non-null  int64 \n",
      " 1   start_time        365069 non-null  object\n",
      " 2   end_time          365069 non-null  object\n",
      " 3   ride_length       365069 non-null  int64 \n",
      " 4   day_of_week       365069 non-null  object\n",
      " 5   day_of_week_id    365069 non-null  int64 \n",
      " 6   start_station_id  365069 non-null  int64 \n",
      " 7   end_station_id    365069 non-null  int64 \n",
      " 8   usertype          365069 non-null  object\n",
      "dtypes: int64(5), object(4)\n",
      "memory usage: 25.1+ MB\n"
     ]
    }
   ],
   "source": [
    "df.info()"
   ]
  },
  {
   "cell_type": "code",
   "execution_count": 6,
   "id": "65a56bf0",
   "metadata": {},
   "outputs": [
    {
     "data": {
      "text/plain": [
       "ride_id             0\n",
       "start_time          0\n",
       "end_time            0\n",
       "ride_length         0\n",
       "day_of_week         0\n",
       "day_of_week_id      0\n",
       "start_station_id    0\n",
       "end_station_id      0\n",
       "usertype            0\n",
       "dtype: int64"
      ]
     },
     "execution_count": 6,
     "metadata": {},
     "output_type": "execute_result"
    }
   ],
   "source": [
    "df.isnull().sum()"
   ]
  },
  {
   "cell_type": "markdown",
   "id": "e3e01259",
   "metadata": {},
   "source": [
    "df.columns()"
   ]
  },
  {
   "cell_type": "code",
   "execution_count": 7,
   "id": "4de102e9",
   "metadata": {},
   "outputs": [],
   "source": [
    "main_col = ['ride_id', 'rideable_type', 'started_at', 'ended_at', 'day_of_week',\n",
    "       'start_station_name', 'start_station_id', 'end_station_name',\n",
    "       'end_station_id', 'user_type']"
   ]
  },
  {
   "cell_type": "code",
   "execution_count": 8,
   "id": "48ddf9e0",
   "metadata": {},
   "outputs": [
    {
     "data": {
      "text/plain": [
       "Index(['ride_id', 'start_time', 'end_time', 'ride_length', 'day_of_week',\n",
       "       'day_of_week_id', 'start_station_id', 'end_station_id', 'usertype'],\n",
       "      dtype='object')"
      ]
     },
     "execution_count": 8,
     "metadata": {},
     "output_type": "execute_result"
    }
   ],
   "source": [
    "cols = df.columns\n",
    "cols"
   ]
  },
  {
   "cell_type": "code",
   "execution_count": 9,
   "id": "3851c021",
   "metadata": {},
   "outputs": [],
   "source": [
    "for col in cols:\n",
    "    if col not in main_col:\n",
    "        if col == 'start_time':\n",
    "            df = df.rename({\"start_time\": \"started_at\"}, axis=1)\n",
    "        if col == 'end_time':\n",
    "            df = df.rename({\"end_time\": \"ended_at\"}, axis=1)\n",
    "        if col == 'member_casual' :\n",
    "            df = df.rename({\"member_casual\": \"user_type\"}, axis=1)\n",
    "        if col == 'usertype' :\n",
    "            df = df.rename({\"usertype\": \"user_type\"}, axis=1)\n",
    "        \n",
    "        if col == 'start_lat' :\n",
    "            df = df.drop(columns='start_lat')\n",
    "        if col == 'start_lng' :\n",
    "            df = df.drop(columns='start_lng')\n",
    "        if col == 'end_lat' :\n",
    "            df = df.drop(columns='end_lat')\n",
    "        if col == 'end_lng' :\n",
    "            df = df.drop(columns='end_lng')\n",
    "        if col == 'day_of_week_id' :\n",
    "            df = df.drop(columns='day_of_week_id')     \n",
    "        if col == 'ride_length' :\n",
    "            df = df.drop(columns='ride_length')              \n",
    "        "
   ]
  },
  {
   "cell_type": "code",
   "execution_count": 10,
   "id": "06a4365b",
   "metadata": {},
   "outputs": [],
   "source": [
    "df['started_at'] = pd.to_datetime(df['started_at'], errors = 'coerce')\n",
    "df['ended_at'] = pd.to_datetime(df['ended_at'], errors = 'coerce')\n",
    "\n",
    "if 'day_of_week' not in cols:\n",
    "    df['day_of_week'] = df['started_at'].dt.day_name()"
   ]
  },
  {
   "cell_type": "markdown",
   "id": "1a30f26c",
   "metadata": {},
   "source": [
    "df['day_of_week'] = df['my_dates'].dt.day_name()"
   ]
  },
  {
   "cell_type": "code",
   "execution_count": 11,
   "id": "020eaeed",
   "metadata": {},
   "outputs": [],
   "source": [
    "if 'start_station_name' not in cols:\n",
    "    df['start_station_name'] = 'station_' + df['start_station_id'].astype(str)\n",
    "\n",
    "if 'end_station_name' not in cols:\n",
    "    df['end_station_name'] = 'station_' + df['end_station_id'].astype(str)\n",
    "    \n",
    "if 'rideable_type' not in cols:\n",
    "    df['rideable_type'] = 'General_bike'"
   ]
  },
  {
   "cell_type": "code",
   "execution_count": 12,
   "id": "c4f35589",
   "metadata": {},
   "outputs": [],
   "source": [
    "df = df.dropna(subset=['start_station_name', 'start_station_id', 'end_station_name', 'end_station_id'])"
   ]
  },
  {
   "cell_type": "code",
   "execution_count": 21,
   "id": "ca7ee4a3",
   "metadata": {},
   "outputs": [
    {
     "data": {
      "text/plain": [
       "0.0"
      ]
     },
     "execution_count": 21,
     "metadata": {},
     "output_type": "execute_result"
    }
   ],
   "source": [
    "rows_a = df.shape[0]\n",
    "\n",
    "missing = ((rows_b - rows_a) / rows_b) *100\n",
    "\n",
    "missing"
   ]
  },
  {
   "cell_type": "code",
   "execution_count": 14,
   "id": "930d0a70",
   "metadata": {},
   "outputs": [
    {
     "name": "stdout",
     "output_type": "stream",
     "text": [
      "<class 'pandas.core.frame.DataFrame'>\n",
      "Int64Index: 365069 entries, 0 to 365068\n",
      "Data columns (total 10 columns):\n",
      " #   Column              Non-Null Count   Dtype              \n",
      "---  ------              --------------   -----              \n",
      " 0   ride_id             365069 non-null  int64              \n",
      " 1   started_at          365069 non-null  datetime64[ns, UTC]\n",
      " 2   ended_at            365069 non-null  datetime64[ns, UTC]\n",
      " 3   day_of_week         365069 non-null  object             \n",
      " 4   start_station_id    365069 non-null  int64              \n",
      " 5   end_station_id      365069 non-null  int64              \n",
      " 6   user_type           365069 non-null  object             \n",
      " 7   start_station_name  365069 non-null  object             \n",
      " 8   end_station_name    365069 non-null  object             \n",
      " 9   rideable_type       365069 non-null  object             \n",
      "dtypes: datetime64[ns, UTC](2), int64(3), object(5)\n",
      "memory usage: 30.6+ MB\n"
     ]
    }
   ],
   "source": [
    "df.info()"
   ]
  },
  {
   "cell_type": "code",
   "execution_count": 15,
   "id": "ae817c1d",
   "metadata": {},
   "outputs": [
    {
     "data": {
      "text/plain": [
       "ride_id               0\n",
       "started_at            0\n",
       "ended_at              0\n",
       "day_of_week           0\n",
       "start_station_id      0\n",
       "end_station_id        0\n",
       "user_type             0\n",
       "start_station_name    0\n",
       "end_station_name      0\n",
       "rideable_type         0\n",
       "dtype: int64"
      ]
     },
     "execution_count": 15,
     "metadata": {},
     "output_type": "execute_result"
    }
   ],
   "source": [
    "df.isnull().sum()"
   ]
  },
  {
   "cell_type": "code",
   "execution_count": 16,
   "id": "2149c6fc",
   "metadata": {},
   "outputs": [
    {
     "data": {
      "text/html": [
       "<div>\n",
       "<style scoped>\n",
       "    .dataframe tbody tr th:only-of-type {\n",
       "        vertical-align: middle;\n",
       "    }\n",
       "\n",
       "    .dataframe tbody tr th {\n",
       "        vertical-align: top;\n",
       "    }\n",
       "\n",
       "    .dataframe thead th {\n",
       "        text-align: right;\n",
       "    }\n",
       "</style>\n",
       "<table border=\"1\" class=\"dataframe\">\n",
       "  <thead>\n",
       "    <tr style=\"text-align: right;\">\n",
       "      <th></th>\n",
       "      <th>ride_id</th>\n",
       "      <th>started_at</th>\n",
       "      <th>ended_at</th>\n",
       "      <th>day_of_week</th>\n",
       "      <th>start_station_id</th>\n",
       "      <th>end_station_id</th>\n",
       "      <th>user_type</th>\n",
       "      <th>start_station_name</th>\n",
       "      <th>end_station_name</th>\n",
       "      <th>rideable_type</th>\n",
       "    </tr>\n",
       "  </thead>\n",
       "  <tbody>\n",
       "    <tr>\n",
       "      <th>0</th>\n",
       "      <td>21758631</td>\n",
       "      <td>2019-01-04 12:50:24+00:00</td>\n",
       "      <td>2019-01-04 12:51:28+00:00</td>\n",
       "      <td>Friday</td>\n",
       "      <td>628</td>\n",
       "      <td>628</td>\n",
       "      <td>member</td>\n",
       "      <td>station_628</td>\n",
       "      <td>station_628</td>\n",
       "      <td>General_bike</td>\n",
       "    </tr>\n",
       "    <tr>\n",
       "      <th>1</th>\n",
       "      <td>21954243</td>\n",
       "      <td>2019-02-22 12:55:45+00:00</td>\n",
       "      <td>2019-02-22 13:25:49+00:00</td>\n",
       "      <td>Friday</td>\n",
       "      <td>628</td>\n",
       "      <td>628</td>\n",
       "      <td>member</td>\n",
       "      <td>station_628</td>\n",
       "      <td>station_628</td>\n",
       "      <td>General_bike</td>\n",
       "    </tr>\n",
       "    <tr>\n",
       "      <th>2</th>\n",
       "      <td>22167178</td>\n",
       "      <td>2019-03-29 15:30:19+00:00</td>\n",
       "      <td>2019-03-29 15:47:31+00:00</td>\n",
       "      <td>Friday</td>\n",
       "      <td>509</td>\n",
       "      <td>628</td>\n",
       "      <td>member</td>\n",
       "      <td>station_509</td>\n",
       "      <td>station_628</td>\n",
       "      <td>General_bike</td>\n",
       "    </tr>\n",
       "    <tr>\n",
       "      <th>3</th>\n",
       "      <td>21926039</td>\n",
       "      <td>2019-02-15 11:53:58+00:00</td>\n",
       "      <td>2019-02-15 12:17:16+00:00</td>\n",
       "      <td>Friday</td>\n",
       "      <td>106</td>\n",
       "      <td>628</td>\n",
       "      <td>member</td>\n",
       "      <td>station_106</td>\n",
       "      <td>station_628</td>\n",
       "      <td>General_bike</td>\n",
       "    </tr>\n",
       "    <tr>\n",
       "      <th>4</th>\n",
       "      <td>21955109</td>\n",
       "      <td>2019-02-22 15:37:16+00:00</td>\n",
       "      <td>2019-02-22 16:01:19+00:00</td>\n",
       "      <td>Friday</td>\n",
       "      <td>106</td>\n",
       "      <td>628</td>\n",
       "      <td>member</td>\n",
       "      <td>station_106</td>\n",
       "      <td>station_628</td>\n",
       "      <td>General_bike</td>\n",
       "    </tr>\n",
       "  </tbody>\n",
       "</table>\n",
       "</div>"
      ],
      "text/plain": [
       "    ride_id                started_at                  ended_at day_of_week  \\\n",
       "0  21758631 2019-01-04 12:50:24+00:00 2019-01-04 12:51:28+00:00      Friday   \n",
       "1  21954243 2019-02-22 12:55:45+00:00 2019-02-22 13:25:49+00:00      Friday   \n",
       "2  22167178 2019-03-29 15:30:19+00:00 2019-03-29 15:47:31+00:00      Friday   \n",
       "3  21926039 2019-02-15 11:53:58+00:00 2019-02-15 12:17:16+00:00      Friday   \n",
       "4  21955109 2019-02-22 15:37:16+00:00 2019-02-22 16:01:19+00:00      Friday   \n",
       "\n",
       "   start_station_id  end_station_id user_type start_station_name  \\\n",
       "0               628             628    member        station_628   \n",
       "1               628             628    member        station_628   \n",
       "2               509             628    member        station_509   \n",
       "3               106             628    member        station_106   \n",
       "4               106             628    member        station_106   \n",
       "\n",
       "  end_station_name rideable_type  \n",
       "0      station_628  General_bike  \n",
       "1      station_628  General_bike  \n",
       "2      station_628  General_bike  \n",
       "3      station_628  General_bike  \n",
       "4      station_628  General_bike  "
      ]
     },
     "execution_count": 16,
     "metadata": {},
     "output_type": "execute_result"
    }
   ],
   "source": [
    "df.head()"
   ]
  },
  {
   "cell_type": "code",
   "execution_count": null,
   "id": "b8ab682f",
   "metadata": {},
   "outputs": [],
   "source": []
  }
 ],
 "metadata": {
  "kernelspec": {
   "display_name": "Python 3 (ipykernel)",
   "language": "python",
   "name": "python3"
  },
  "language_info": {
   "codemirror_mode": {
    "name": "ipython",
    "version": 3
   },
   "file_extension": ".py",
   "mimetype": "text/x-python",
   "name": "python",
   "nbconvert_exporter": "python",
   "pygments_lexer": "ipython3",
   "version": "3.9.6"
  }
 },
 "nbformat": 4,
 "nbformat_minor": 5
}
